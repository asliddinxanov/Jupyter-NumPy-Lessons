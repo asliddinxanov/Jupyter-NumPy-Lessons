{
 "cells": [
  {
   "cell_type": "code",
   "execution_count": 16,
   "id": "fcd2af84",
   "metadata": {},
   "outputs": [
    {
     "name": "stdout",
     "output_type": "stream",
     "text": [
      "Enter height(cm) >> 175\n",
      "Enter weight(kg) >> 74\n",
      "You Body Mass Index is :  24.163265306122447\n"
     ]
    }
   ],
   "source": [
    "height = float(input('Enter height(cm) >> '))\n",
    "weight = float(input('Enter weight(kg) >> '))\n",
    "height = height / 100\n",
    "\n",
    "bmi = weight / (height**2)\n",
    "print('You Body Mass Index is : ', bmi)\n"
   ]
  },
  {
   "cell_type": "code",
   "execution_count": 17,
   "id": "fc0108bf",
   "metadata": {},
   "outputs": [
    {
     "name": "stdout",
     "output_type": "stream",
     "text": [
      "You are Healthy\n"
     ]
    }
   ],
   "source": [
    "if (bmi > 0):\n",
    "    if (bmi <= 16):\n",
    "        print('You are severely underweight')\n",
    "    elif (bmi <= 18.5):\n",
    "        print('You are underweight')\n",
    "    elif (bmi <= 25):\n",
    "        print('You are Healthy')\n",
    "    elif (bmi <= 30):\n",
    "        print('You are underweight')\n",
    "    else:\n",
    "        print('You are severely overweight')\n",
    "else:\n",
    "    print('Enter valide details')"
   ]
  }
 ],
 "metadata": {
  "kernelspec": {
   "display_name": "Python 3 (ipykernel)",
   "language": "python",
   "name": "python3"
  },
  "language_info": {
   "codemirror_mode": {
    "name": "ipython",
    "version": 3
   },
   "file_extension": ".py",
   "mimetype": "text/x-python",
   "name": "python",
   "nbconvert_exporter": "python",
   "pygments_lexer": "ipython3",
   "version": "3.9.7"
  }
 },
 "nbformat": 4,
 "nbformat_minor": 5
}
