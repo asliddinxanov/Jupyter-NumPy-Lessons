{
 "cells": [
  {
   "cell_type": "markdown",
   "id": "8c8bed05",
   "metadata": {},
   "source": [
    "### `Linear Algebra`"
   ]
  },
  {
   "cell_type": "code",
   "execution_count": 43,
   "id": "cd291724",
   "metadata": {},
   "outputs": [],
   "source": [
    "import numpy as np"
   ]
  },
  {
   "cell_type": "code",
   "execution_count": 44,
   "id": "ff7bc56c",
   "metadata": {},
   "outputs": [],
   "source": [
    "x = np.array([[1., 2., 3.], [4., 5., 6.]])\n",
    "y = np.array([[7., 8., 9.], [10., 11., 12.]])"
   ]
  },
  {
   "cell_type": "code",
   "execution_count": 45,
   "id": "b821d286",
   "metadata": {},
   "outputs": [
    {
     "data": {
      "text/plain": [
       "array([[1., 2., 3.],\n",
       "       [4., 5., 6.]])"
      ]
     },
     "execution_count": 45,
     "metadata": {},
     "output_type": "execute_result"
    }
   ],
   "source": [
    "x"
   ]
  },
  {
   "cell_type": "code",
   "execution_count": 46,
   "id": "3c0e62da",
   "metadata": {},
   "outputs": [
    {
     "data": {
      "text/plain": [
       "array([[ 7.,  8.,  9.],\n",
       "       [10., 11., 12.]])"
      ]
     },
     "execution_count": 46,
     "metadata": {},
     "output_type": "execute_result"
    }
   ],
   "source": [
    "y"
   ]
  },
  {
   "cell_type": "code",
   "execution_count": 47,
   "id": "0ff64e71",
   "metadata": {},
   "outputs": [
    {
     "data": {
      "text/plain": [
       "array([[ 8., 10., 12.],\n",
       "       [14., 16., 18.]])"
      ]
     },
     "execution_count": 47,
     "metadata": {},
     "output_type": "execute_result"
    }
   ],
   "source": [
    "x+y #arraylarni qo`shish"
   ]
  },
  {
   "cell_type": "code",
   "execution_count": 48,
   "id": "8a189820",
   "metadata": {},
   "outputs": [
    {
     "data": {
      "text/plain": [
       "array([[ 7., 16., 27.],\n",
       "       [40., 55., 72.]])"
      ]
     },
     "execution_count": 48,
     "metadata": {},
     "output_type": "execute_result"
    }
   ],
   "source": [
    "x*y #ko`paytirish"
   ]
  },
  {
   "cell_type": "code",
   "execution_count": 49,
   "id": "a623f882",
   "metadata": {},
   "outputs": [
    {
     "data": {
      "text/plain": [
       "array([[ 5., 10., 15.],\n",
       "       [20., 25., 30.]])"
      ]
     },
     "execution_count": 49,
     "metadata": {},
     "output_type": "execute_result"
    }
   ],
   "source": [
    "x*5 # x ning harbir elementini 5 ga ko`paytirish"
   ]
  },
  {
   "cell_type": "code",
   "execution_count": 50,
   "id": "74c24e2c",
   "metadata": {},
   "outputs": [],
   "source": [
    "#shape(2,3)li arrayni shape(3,2)li arrayga qo`shish\n",
    "x2 = np.array([[7., 8., 7.],[9., 10., 1.]])\n",
    "y2 = np.array([[1, 2],[3, 4],[5, 6]]) # shape(3,2)li array yaratamiz"
   ]
  },
  {
   "cell_type": "code",
   "execution_count": 55,
   "id": "ea805777",
   "metadata": {},
   "outputs": [
    {
     "data": {
      "text/plain": [
       "array([[66., 88.],\n",
       "       [44., 64.]])"
      ]
     },
     "execution_count": 55,
     "metadata": {},
     "output_type": "execute_result"
    }
   ],
   "source": [
    "np.dot(x2,y2) #x*y"
   ]
  },
  {
   "cell_type": "code",
   "execution_count": 56,
   "id": "f44ea93f",
   "metadata": {},
   "outputs": [
    {
     "data": {
      "text/plain": [
       "array([[66., 88.],\n",
       "       [44., 64.]])"
      ]
     },
     "execution_count": 56,
     "metadata": {},
     "output_type": "execute_result"
    }
   ],
   "source": [
    "x2.dot(y2) #x*y"
   ]
  },
  {
   "cell_type": "code",
   "execution_count": 58,
   "id": "ca28452e",
   "metadata": {},
   "outputs": [
    {
     "data": {
      "text/plain": [
       "array([[ 25.,  28.,   9.],\n",
       "       [ 57.,  64.,  25.],\n",
       "       [ 89., 100.,  41.]])"
      ]
     },
     "execution_count": 58,
     "metadata": {},
     "output_type": "execute_result"
    }
   ],
   "source": [
    "np.dot(y2,x2) #y*x"
   ]
  },
  {
   "cell_type": "code",
   "execution_count": null,
   "id": "f2db86fa",
   "metadata": {},
   "outputs": [],
   "source": []
  },
  {
   "cell_type": "code",
   "execution_count": 59,
   "id": "a3b8a820",
   "metadata": {},
   "outputs": [],
   "source": [
    "#Linear Algebrea\n",
    "from numpy.linalg import inv"
   ]
  },
  {
   "cell_type": "markdown",
   "id": "b420f29b",
   "metadata": {},
   "source": [
    "`for more` https://towardsdatascience.com/introduction-to-linear-algebra-with-numpy-79adeb7bc060"
   ]
  }
 ],
 "metadata": {
  "kernelspec": {
   "display_name": "Python 3 (ipykernel)",
   "language": "python",
   "name": "python3"
  },
  "language_info": {
   "codemirror_mode": {
    "name": "ipython",
    "version": 3
   },
   "file_extension": ".py",
   "mimetype": "text/x-python",
   "name": "python",
   "nbconvert_exporter": "python",
   "pygments_lexer": "ipython3",
   "version": "3.9.12"
  }
 },
 "nbformat": 4,
 "nbformat_minor": 5
}
