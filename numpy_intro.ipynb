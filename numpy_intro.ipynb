{
 "cells": [
  {
   "cell_type": "markdown",
   "id": "82bde220",
   "metadata": {},
   "source": [
    "## Data Science & AI\n",
    "### NumPy (NumPy kutubxonasi)"
   ]
  },
  {
   "cell_type": "code",
   "execution_count": 1,
   "id": "18803caa",
   "metadata": {},
   "outputs": [],
   "source": [
    "#NumPy kutubxonasini chaqirish\n",
    "import numpy as np"
   ]
  },
  {
   "cell_type": "markdown",
   "id": "b4728309",
   "metadata": {},
   "source": [
    "Python List & array"
   ]
  },
  {
   "cell_type": "code",
   "execution_count": 20,
   "id": "cae8b77b",
   "metadata": {},
   "outputs": [],
   "source": [
    "my_list = list(range(100)) # python list 0~99--> Normal\n",
    "my_array = np.array(range(100)) # numpy array 0~99--> Vector"
   ]
  },
  {
   "cell_type": "code",
   "execution_count": 21,
   "id": "76d962d2",
   "metadata": {},
   "outputs": [
    {
     "name": "stdout",
     "output_type": "stream",
     "text": [
      "[0, 1, 2, 3, 4, 5, 6, 7, 8, 9, 10, 11, 12, 13, 14, 15, 16, 17, 18, 19, 20, 21, 22, 23, 24, 25, 26, 27, 28, 29, 30, 31, 32, 33, 34, 35, 36, 37, 38, 39, 40, 41, 42, 43, 44, 45, 46, 47, 48, 49, 50, 51, 52, 53, 54, 55, 56, 57, 58, 59, 60, 61, 62, 63, 64, 65, 66, 67, 68, 69, 70, 71, 72, 73, 74, 75, 76, 77, 78, 79, 80, 81, 82, 83, 84, 85, 86, 87, 88, 89, 90, 91, 92, 93, 94, 95, 96, 97, 98, 99]\n"
     ]
    }
   ],
   "source": [
    "print(my_list)"
   ]
  },
  {
   "cell_type": "code",
   "execution_count": 19,
   "id": "97ff46da",
   "metadata": {},
   "outputs": [
    {
     "name": "stdout",
     "output_type": "stream",
     "text": [
      "CPU times: user 61 µs, sys: 1e+03 ns, total: 62 µs\n",
      "Wall time: 66 µs\n"
     ]
    }
   ],
   "source": [
    "# my_listni run qilingandagi sarflanadigan vaqti\n",
    "%time for _ in range(10): [x*2 for x in my_list]"
   ]
  },
  {
   "cell_type": "code",
   "execution_count": 22,
   "id": "71fd1365",
   "metadata": {},
   "outputs": [
    {
     "name": "stdout",
     "output_type": "stream",
     "text": [
      "[ 0  1  2  3  4  5  6  7  8  9 10 11 12 13 14 15 16 17 18 19 20 21 22 23\n",
      " 24 25 26 27 28 29 30 31 32 33 34 35 36 37 38 39 40 41 42 43 44 45 46 47\n",
      " 48 49 50 51 52 53 54 55 56 57 58 59 60 61 62 63 64 65 66 67 68 69 70 71\n",
      " 72 73 74 75 76 77 78 79 80 81 82 83 84 85 86 87 88 89 90 91 92 93 94 95\n",
      " 96 97 98 99]\n"
     ]
    }
   ],
   "source": [
    "print(my_array)"
   ]
  },
  {
   "cell_type": "code",
   "execution_count": 23,
   "id": "45ca1b77",
   "metadata": {},
   "outputs": [
    {
     "name": "stdout",
     "output_type": "stream",
     "text": [
      "CPU times: user 34 µs, sys: 8 µs, total: 42 µs\n",
      "Wall time: 45.1 µs\n"
     ]
    }
   ],
   "source": [
    "%time for _ in range(10): my_array*2"
   ]
  },
  {
   "cell_type": "markdown",
   "id": "15c580f4",
   "metadata": {},
   "source": [
    "↑yuqirida ko'rganimiz ikkala arrayni \n",
    "xisoblashda ketadigan vaqt:\n",
    "\n",
    "Normal: Wall time: 66 µs & \n",
    "Vector: Wall time: 45.1 µs "
   ]
  },
  {
   "cell_type": "code",
   "execution_count": null,
   "id": "54b3a34d",
   "metadata": {},
   "outputs": [],
   "source": []
  }
 ],
 "metadata": {
  "kernelspec": {
   "display_name": "Python 3 (ipykernel)",
   "language": "python",
   "name": "python3"
  },
  "language_info": {
   "codemirror_mode": {
    "name": "ipython",
    "version": 3
   },
   "file_extension": ".py",
   "mimetype": "text/x-python",
   "name": "python",
   "nbconvert_exporter": "python",
   "pygments_lexer": "ipython3",
   "version": "3.9.12"
  }
 },
 "nbformat": 4,
 "nbformat_minor": 5
}
