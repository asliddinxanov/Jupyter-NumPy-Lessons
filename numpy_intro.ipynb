{
 "cells": [
  {
   "cell_type": "markdown",
   "id": "be1b9b6d",
   "metadata": {},
   "source": [
    "## Data Science & AI\n",
    "### NumPy (NumPy kutubxonasi)"
   ]
  },
  {
   "cell_type": "code",
   "execution_count": 1,
   "id": "f434eb17",
   "metadata": {},
   "outputs": [],
   "source": [
    "#NumPy kutubxonasini chaqirish\n",
    "import numpy as np"
   ]
  },
  {
   "cell_type": "markdown",
   "id": "e32920c2",
   "metadata": {},
   "source": [
    "Python List & array"
   ]
  },
  {
   "cell_type": "code",
   "execution_count": 20,
   "id": "83676ea0",
   "metadata": {},
   "outputs": [],
   "source": [
    "my_list = list(range(100)) # python list 0~99--> Normal\n",
    "my_array = np.array(range(100)) # numpy array 0~99--> Vector"
   ]
  },
  {
   "cell_type": "code",
   "execution_count": 21,
   "id": "635557ca",
   "metadata": {},
   "outputs": [
    {
     "name": "stdout",
     "output_type": "stream",
     "text": [
      "[0, 1, 2, 3, 4, 5, 6, 7, 8, 9, 10, 11, 12, 13, 14, 15, 16, 17, 18, 19, 20, 21, 22, 23, 24, 25, 26, 27, 28, 29, 30, 31, 32, 33, 34, 35, 36, 37, 38, 39, 40, 41, 42, 43, 44, 45, 46, 47, 48, 49, 50, 51, 52, 53, 54, 55, 56, 57, 58, 59, 60, 61, 62, 63, 64, 65, 66, 67, 68, 69, 70, 71, 72, 73, 74, 75, 76, 77, 78, 79, 80, 81, 82, 83, 84, 85, 86, 87, 88, 89, 90, 91, 92, 93, 94, 95, 96, 97, 98, 99]\n"
     ]
    }
   ],
   "source": [
    "print(my_list)"
   ]
  },
  {
   "cell_type": "code",
   "execution_count": 19,
   "id": "cdf8f99b",
   "metadata": {},
   "outputs": [
    {
     "name": "stdout",
     "output_type": "stream",
     "text": [
      "CPU times: user 61 µs, sys: 1e+03 ns, total: 62 µs\n",
      "Wall time: 66 µs\n"
     ]
    }
   ],
   "source": [
    "# my_listni run qilingandagi sarflanadigan vaqti\n",
    "%time for _ in range(10): [x*2 for x in my_list]"
   ]
  },
  {
   "cell_type": "code",
   "execution_count": 22,
   "id": "3a25a4bb",
   "metadata": {},
   "outputs": [
    {
     "name": "stdout",
     "output_type": "stream",
     "text": [
      "[ 0  1  2  3  4  5  6  7  8  9 10 11 12 13 14 15 16 17 18 19 20 21 22 23\n",
      " 24 25 26 27 28 29 30 31 32 33 34 35 36 37 38 39 40 41 42 43 44 45 46 47\n",
      " 48 49 50 51 52 53 54 55 56 57 58 59 60 61 62 63 64 65 66 67 68 69 70 71\n",
      " 72 73 74 75 76 77 78 79 80 81 82 83 84 85 86 87 88 89 90 91 92 93 94 95\n",
      " 96 97 98 99]\n"
     ]
    }
   ],
   "source": [
    "print(my_array)"
   ]
  },
  {
   "cell_type": "code",
   "execution_count": 23,
   "id": "17967966",
   "metadata": {},
   "outputs": [
    {
     "name": "stdout",
     "output_type": "stream",
     "text": [
      "CPU times: user 34 µs, sys: 8 µs, total: 42 µs\n",
      "Wall time: 45.1 µs\n"
     ]
    }
   ],
   "source": [
    "%time for _ in range(10): my_array*2"
   ]
  },
  {
   "cell_type": "markdown",
   "id": "d61c173d",
   "metadata": {},
   "source": [
    "↑yuqirida ko'rganimiz ikkala arrayni \n",
    "xisoblashda ketadigan vaqt:\n",
    "\n",
    "Normal: Wall time: 66 µs & \n",
    "Vector: Wall time: 45.1 µs "
   ]
  },
  {
   "cell_type": "code",
   "execution_count": 24,
   "id": "b7d68a9b",
   "metadata": {},
   "outputs": [
    {
     "data": {
      "text/plain": [
       "1.4634146341463414"
      ]
     },
     "execution_count": 24,
     "metadata": {},
     "output_type": "execute_result"
    }
   ],
   "source": [
    "66/45.1"
   ]
  },
  {
   "cell_type": "markdown",
   "id": "ee1ccb6f",
   "metadata": {},
   "source": [
    "↑ demak Vector array Normal arrayga nisbatan deyarli (1.5)barobar tez"
   ]
  },
  {
   "cell_type": "code",
   "execution_count": null,
   "id": "43a587d5",
   "metadata": {},
   "outputs": [],
   "source": []
  }
 ],
 "metadata": {
  "kernelspec": {
   "display_name": "Python 3 (ipykernel)",
   "language": "python",
   "name": "python3"
  },
  "language_info": {
   "codemirror_mode": {
    "name": "ipython",
    "version": 3
   },
   "file_extension": ".py",
   "mimetype": "text/x-python",
   "name": "python",
   "nbconvert_exporter": "python",
   "pygments_lexer": "ipython3",
   "version": "3.9.12"
  }
 },
 "nbformat": 4,
 "nbformat_minor": 5
}
