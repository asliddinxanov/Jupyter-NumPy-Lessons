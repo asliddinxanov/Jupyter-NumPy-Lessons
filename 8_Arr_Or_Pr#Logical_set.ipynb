{
 "cells": [
  {
   "cell_type": "markdown",
   "id": "6dc4f98b",
   "metadata": {},
   "source": [
    "# Mantiqiy shart operatorlarini  Massiv operatori sifatida qo'llash"
   ]
  },
  {
   "cell_type": "code",
   "execution_count": 1,
   "id": "a883180c",
   "metadata": {},
   "outputs": [],
   "source": [
    "import numpy as np"
   ]
  },
  {
   "cell_type": "markdown",
   "id": "1374b527",
   "metadata": {},
   "source": [
    "Ikkita array yaratib (x_arr, y_arr), agar `True` ni qaytarsa x_arrdan olgan, aksincha `False` ni qaytarsa y_arrdan olgan bo'ladi"
   ]
  },
  {
   "cell_type": "code",
   "execution_count": 2,
   "id": "c0881d7b",
   "metadata": {},
   "outputs": [],
   "source": [
    "# array yaratamiz\n",
    "x_arr = np.array([1.1, 1.2, 1.3, 1.4, 1.5])\n",
    "y_arr = np.array([2.1, 2.2, 2.3, 2.4, 2.5])"
   ]
  },
  {
   "cell_type": "markdown",
   "id": "775b3888",
   "metadata": {},
   "source": [
    "endi shartni `condition`ni yaratib olamiz, va arraylarmizga mos ravishda shartlarni beramiz"
   ]
  },
  {
   "cell_type": "code",
   "execution_count": 12,
   "id": "1a2df09d",
   "metadata": {},
   "outputs": [],
   "source": [
    "cond = np.array([True, False, True, True, False])# cond==Tru->x_arr, cond==False->y_arr"
   ]
  },
  {
   "cell_type": "markdown",
   "id": "03c711da",
   "metadata": {},
   "source": [
    "`where`"
   ]
  },
  {
   "cell_type": "code",
   "execution_count": 13,
   "id": "89040aa7",
   "metadata": {},
   "outputs": [
    {
     "data": {
      "text/plain": [
       "array([1.1, 2.2, 1.3, 1.4, 2.5])"
      ]
     },
     "execution_count": 13,
     "metadata": {},
     "output_type": "execute_result"
    }
   ],
   "source": [
    "result = np.where(cond, x_arr, y_arr) # .where('shart', 'true', 'false')\n",
    "result"
   ]
  },
  {
   "cell_type": "markdown",
   "id": "ec18f3d2",
   "metadata": {},
   "source": [
    "Boshqa misol"
   ]
  },
  {
   "cell_type": "code",
   "execution_count": 20,
   "id": "a437cdaf",
   "metadata": {},
   "outputs": [
    {
     "data": {
      "text/plain": [
       "array([[-0.43604083,  0.22014598, -0.32923829],\n",
       "       [-0.76021655, -1.11481099, -0.46262977],\n",
       "       [ 2.27971533,  2.91452715,  0.92247675]])"
      ]
     },
     "execution_count": 20,
     "metadata": {},
     "output_type": "execute_result"
    }
   ],
   "source": [
    "# (3, 3) o'lchamli array\n",
    "arr = np.random.randn(3, 3)\n",
    "arr"
   ]
  },
  {
   "cell_type": "code",
   "execution_count": 21,
   "id": "dde970df",
   "metadata": {},
   "outputs": [
    {
     "data": {
      "text/plain": [
       "array([[-2,  2, -2],\n",
       "       [-2, -2, -2],\n",
       "       [ 2,  2,  2]])"
      ]
     },
     "execution_count": 21,
     "metadata": {},
     "output_type": "execute_result"
    }
   ],
   "source": [
    "result2 = np.where(arr < 0, -2, 2) # arr<0 bo'lsa (-2)ga, aksholda (2)ga teng qilsin\n",
    "result2"
   ]
  }
 ],
 "metadata": {
  "kernelspec": {
   "display_name": "Python 3 (ipykernel)",
   "language": "python",
   "name": "python3"
  },
  "language_info": {
   "codemirror_mode": {
    "name": "ipython",
    "version": 3
   },
   "file_extension": ".py",
   "mimetype": "text/x-python",
   "name": "python",
   "nbconvert_exporter": "python",
   "pygments_lexer": "ipython3",
   "version": "3.8.13"
  }
 },
 "nbformat": 4,
 "nbformat_minor": 5
}
