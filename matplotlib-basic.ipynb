{
 "cells": [
  {
   "cell_type": "markdown",
   "id": "7d0d1b42",
   "metadata": {},
   "source": [
    "## 概要：一様乱数(離散値)"
   ]
  },
  {
   "cell_type": "code",
   "execution_count": 2,
   "id": "7de45310",
   "metadata": {},
   "outputs": [],
   "source": [
    "import matplotlib.pyplot as plt\n",
    "import pandas as pd\n",
    "import numpy as np"
   ]
  },
  {
   "cell_type": "code",
   "execution_count": 3,
   "id": "f9300e5a",
   "metadata": {},
   "outputs": [],
   "source": [
    "rng = np.random.default_rng()"
   ]
  },
  {
   "cell_type": "code",
   "execution_count": 5,
   "id": "69f6e48b",
   "metadata": {},
   "outputs": [
    {
     "data": {
      "text/plain": [
       "(array([1687., 1689., 1666., 1616., 1705., 1637.]),\n",
       " array([1.        , 1.83333333, 2.66666667, 3.5       , 4.33333333,\n",
       "        5.16666667, 6.        ]),\n",
       " <BarContainer object of 6 artists>)"
      ]
     },
     "execution_count": 5,
     "metadata": {},
     "output_type": "execute_result"
    },
    {
     "data": {
      "image/png": "[encoded data removed]",
      "text/plain": [
       "<Figure size 432x288 with 1 Axes>"
      ]
     },
     "metadata": {
      "needs_background": "light"
     },
     "output_type": "display_data"
    }
   ],
   "source": [
    "x = np.random.choice(\n",
    "    a = range(1,7), #1~7\n",
    "    size = 10000,   # taxminit sonlar qiymati\n",
    "    replace = True) # dublicet True\n",
    "plt.hist(x, bins = 6)"
   ]
  },
  {
   "cell_type": "code",
   "execution_count": 16,
   "id": "f8451c0f",
   "metadata": {},
   "outputs": [
    {
     "data": {
      "text/plain": [
       "(array([106.,  98.,  97., 106., 102.,  87.,  98.,  90., 118.,  98.]),\n",
       " array([8.20803716e-04, 1.00723659e-01, 2.00626514e-01, 3.00529370e-01,\n",
       "        4.00432225e-01, 5.00335081e-01, 6.00237936e-01, 7.00140791e-01,\n",
       "        8.00043647e-01, 8.99946502e-01, 9.99849357e-01]),\n",
       " <BarContainer object of 10 artists>)"
      ]
     },
     "execution_count": 16,
     "metadata": {},
     "output_type": "execute_result"
    },
    {
     "data": {
      "image/png": "[encoded data removed]",
      "text/plain": [
       "<Figure size 432x288 with 1 Axes>"
      ]
     },
     "metadata": {
      "needs_background": "light"
     },
     "output_type": "display_data"
    }
   ],
   "source": [
    "import matplotlib.pyplot as plt\n",
    "import numpy as np\n",
    "rng = np.random.default_rng()\n",
    "# y = np.random(size = 1000)\n",
    "# Generate random numbers in any range\n",
    "x = np.random.uniform(\n",
    "    low = 0.0,\n",
    "    high = 1.0,\n",
    "    size = 1000)\n",
    "plt.hist(x)"
   ]
  },
  {
   "cell_type": "markdown",
   "id": "e19c8eff",
   "metadata": {},
   "source": [
    "## 乱数：ニ項乱数"
   ]
  },
  {
   "cell_type": "code",
   "execution_count": 13,
   "id": "79f030ae",
   "metadata": {},
   "outputs": [],
   "source": [
    "import matplotlib.pyplot as plt\n",
    "import numpy as np"
   ]
  },
  {
   "cell_type": "code",
   "execution_count": 18,
   "id": "7b83be60",
   "metadata": {},
   "outputs": [
    {
     "data": {
      "text/plain": [
       "(array([  1.,   0.,   3.,   0.,   6.,  19.,  38.,  50.,  70., 112., 172.,\n",
       "        246., 291., 405., 507., 592., 647., 722., 747., 830., 742., 712.,\n",
       "        646., 596., 473., 406., 315., 219., 160., 103.,  64.,  49.,  31.,\n",
       "         13.,   6.,   4.,   1.,   0.,   1.,   1.]),\n",
       " array([31., 32., 33., 34., 35., 36., 37., 38., 39., 40., 41., 42., 43.,\n",
       "        44., 45., 46., 47., 48., 49., 50., 51., 52., 53., 54., 55., 56.,\n",
       "        57., 58., 59., 60., 61., 62., 63., 64., 65., 66., 67., 68., 69.,\n",
       "        70., 71.]),\n",
       " <BarContainer object of 40 artists>)"
      ]
     },
     "execution_count": 18,
     "metadata": {},
     "output_type": "execute_result"
    },
    {
     "data": {
      "image/png": "[encoded data removed]",
      "text/plain": [
       "<Figure size 432x288 with 1 Axes>"
      ]
     },
     "metadata": {
      "needs_background": "light"
     },
     "output_type": "display_data"
    }
   ],
   "source": [
    "rng = np.random.default_rng()\n",
    "x = np.random.binomial(\n",
    "    n = 100, #number of trials\n",
    "    p = 0.5, #probability (ehtimollik)\n",
    "    size = 10000)\n",
    "plt.hist(x, bins = max(x) - min(x))"
   ]
  },
  {
   "cell_type": "markdown",
   "id": "2169a02a",
   "metadata": {},
   "source": [
    "## 乱数: 正規乱数"
   ]
  },
  {
   "cell_type": "code",
   "execution_count": 20,
   "id": "baeda2bc",
   "metadata": {},
   "outputs": [],
   "source": [
    "rng = np.random.default_rng()"
   ]
  },
  {
   "cell_type": "code",
   "execution_count": 22,
   "id": "1887b890",
   "metadata": {},
   "outputs": [
    {
     "data": {
      "text/plain": [
       "(array([  4.,   4.,   6.,   7.,  16.,  38.,  67.,  70., 119., 182., 257.,\n",
       "        330., 435., 477., 586., 684., 696., 770., 766., 736., 687., 665.,\n",
       "        530., 500., 391., 299., 215., 165., 107.,  75.,  45.,  27.,  20.,\n",
       "         15.,   3.,   4.,   1.,   0.,   0.,   1.]),\n",
       " array([32.19184   , 33.16453244, 34.13722487, 35.1099173 , 36.08260974,\n",
       "        37.05530217, 38.0279946 , 39.00068704, 39.97337947, 40.9460719 ,\n",
       "        41.91876434, 42.89145677, 43.8641492 , 44.83684164, 45.80953407,\n",
       "        46.78222651, 47.75491894, 48.72761137, 49.70030381, 50.67299624,\n",
       "        51.64568867, 52.61838111, 53.59107354, 54.56376597, 55.53645841,\n",
       "        56.50915084, 57.48184327, 58.45453571, 59.42722814, 60.39992057,\n",
       "        61.37261301, 62.34530544, 63.31799787, 64.29069031, 65.26338274,\n",
       "        66.23607518, 67.20876761, 68.18146004, 69.15415248, 70.12684491,\n",
       "        71.09953734]),\n",
       " <BarContainer object of 40 artists>)"
      ]
     },
     "execution_count": 22,
     "metadata": {},
     "output_type": "execute_result"
    },
    {
     "data": {
      "image/png": "[encoded data removed]",
      "text/plain": [
       "<Figure size 432x288 with 1 Axes>"
      ]
     },
     "metadata": {
      "needs_background": "light"
     },
     "output_type": "display_data"
    }
   ],
   "source": [
    "x = np.random.normal(\n",
    "    loc = 50, #average\n",
    "    scale = 5, #standard deviation\n",
    "    size = 10000)\n",
    "plt.hist(x, bins = 40)"
   ]
  },
  {
   "cell_type": "code",
   "execution_count": null,
   "id": "42cb9313",
   "metadata": {},
   "outputs": [],
   "source": []
  }
 ],
 "metadata": {
  "kernelspec": {
   "display_name": "Python 3 (ipykernel)",
   "language": "python",
   "name": "python3"
  },
  "language_info": {
   "codemirror_mode": {
    "name": "ipython",
    "version": 3
   },
   "file_extension": ".py",
   "mimetype": "text/x-python",
   "name": "python",
   "nbconvert_exporter": "python",
   "pygments_lexer": "ipython3",
   "version": "3.9.7"
  }
 },
 "nbformat": 4,
 "nbformat_minor": 5
}
