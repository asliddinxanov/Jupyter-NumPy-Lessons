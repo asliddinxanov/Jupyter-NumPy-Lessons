{
 "cells": [
  {
   "cell_type": "markdown",
   "id": "ec33e566",
   "metadata": {},
   "source": [
    "###  `unique` , `in1d`,  `setdiff1d`"
   ]
  },
  {
   "cell_type": "code",
   "execution_count": 1,
   "id": "9d147e14",
   "metadata": {},
   "outputs": [],
   "source": [
    "import numpy as np"
   ]
  },
  {
   "cell_type": "code",
   "execution_count": 2,
   "id": "d28240dc",
   "metadata": {},
   "outputs": [],
   "source": [
    "names = np.array(['Xasan', 'Xusan', 'Temur', 'Sarvar', 'Xasan'])\n",
    "ints = np.array([2,3,2,3,3,3,3,2,1,1,4,1,4,4,2])"
   ]
  },
  {
   "cell_type": "markdown",
   "id": "fdd85d08",
   "metadata": {},
   "source": [
    "`.unique`- takrorlangan malumitlarni 1tta qilib chiqaradi.  Pythondagi .set() funksyasiga o'xshash"
   ]
  },
  {
   "cell_type": "code",
   "execution_count": 3,
   "id": "221eab18",
   "metadata": {},
   "outputs": [
    {
     "data": {
      "text/plain": [
       "array(['Sarvar', 'Temur', 'Xasan', 'Xusan'], dtype='<U6')"
      ]
     },
     "execution_count": 3,
     "metadata": {},
     "output_type": "execute_result"
    }
   ],
   "source": [
    "np.unique(names) # arraydagi takrorlarlangan malumotarni bittasini oladi."
   ]
  },
  {
   "cell_type": "code",
   "execution_count": 5,
   "id": "575c74eb",
   "metadata": {},
   "outputs": [
    {
     "data": {
      "text/plain": [
       "array([1, 2, 3, 4])"
      ]
     },
     "execution_count": 5,
     "metadata": {},
     "output_type": "execute_result"
    }
   ],
   "source": [
    "np.unique(ints) # takrorlangan ma/larni bittasini tartib bo`yicha oladi"
   ]
  },
  {
   "cell_type": "markdown",
   "id": "c1a92fbf",
   "metadata": {},
   "source": [
    "`in1di`- in one d"
   ]
  },
  {
   "cell_type": "code",
   "execution_count": 9,
   "id": "7a1270f1",
   "metadata": {},
   "outputs": [],
   "source": [
    "#data \n",
    "arr1 = ([2,3,5,8,2,5,11,10,])\n",
    "arr2 = ([1,2,3,4,5,6,7,9,11])"
   ]
  },
  {
   "cell_type": "code",
   "execution_count": 11,
   "id": "c019f05f",
   "metadata": {},
   "outputs": [
    {
     "data": {
      "text/plain": [
       "array([ True,  True,  True, False,  True,  True,  True, False])"
      ]
     },
     "execution_count": 11,
     "metadata": {},
     "output_type": "execute_result"
    }
   ],
   "source": [
    "np.in1d(arr1, arr2) # arr1 dagi malumotlar arr2 da bo`lsa True, aks xolda False"
   ]
  },
  {
   "cell_type": "markdown",
   "id": "8845569d",
   "metadata": {},
   "source": [
    "`setdif1d`- setdifoned"
   ]
  },
  {
   "cell_type": "code",
   "execution_count": 17,
   "id": "c5cb1f88",
   "metadata": {},
   "outputs": [],
   "source": [
    "#data \n",
    "name1 = (['Alisher', 'Max', 'Olim', 'Ali', 'Vali'])\n",
    "name2 = (['Alisher', 'Vin', 'Sadri', 'Vali'])"
   ]
  },
  {
   "cell_type": "code",
   "execution_count": 18,
   "id": "126a11e5",
   "metadata": {},
   "outputs": [
    {
     "data": {
      "text/plain": [
       "array(['Ali', 'Max', 'Olim'], dtype='<U7')"
      ]
     },
     "execution_count": 18,
     "metadata": {},
     "output_type": "execute_result"
    }
   ],
   "source": [
    "np.setdiff1d(name1, name2) # name1 dagi ismlar name2 da yo'q bo'lsa chiqaradi"
   ]
  }
 ],
 "metadata": {
  "kernelspec": {
   "display_name": "Python 3 (ipykernel)",
   "language": "python",
   "name": "python3"
  },
  "language_info": {
   "codemirror_mode": {
    "name": "ipython",
    "version": 3
   },
   "file_extension": ".py",
   "mimetype": "text/x-python",
   "name": "python",
   "nbconvert_exporter": "python",
   "pygments_lexer": "ipython3",
   "version": "3.9.12"
  }
 },
 "nbformat": 4,
 "nbformat_minor": 5
}
