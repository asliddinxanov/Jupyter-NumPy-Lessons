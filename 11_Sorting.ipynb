{
 "cells": [
  {
   "cell_type": "markdown",
   "id": "145b6977",
   "metadata": {},
   "source": [
    "### `Sorting`\n",
    "Arrayni Tartiblash"
   ]
  },
  {
   "cell_type": "code",
   "execution_count": 2,
   "id": "e076892d",
   "metadata": {},
   "outputs": [],
   "source": [
    "import numpy as np"
   ]
  },
  {
   "cell_type": "code",
   "execution_count": 4,
   "id": "3a19c076",
   "metadata": {},
   "outputs": [
    {
     "data": {
      "text/plain": [
       "array([0.59327352, 0.90622337, 0.55629386, 0.77716429])"
      ]
     },
     "execution_count": 4,
     "metadata": {},
     "output_type": "execute_result"
    }
   ],
   "source": [
    "#data \n",
    "arr = np.random.rand(4) #taxminiy sonlar yaratamiz\n",
    "arr"
   ]
  },
  {
   "cell_type": "markdown",
   "id": "04cacd12",
   "metadata": {},
   "source": [
    "`.sort` funksiyasi\n",
    "bu funksiya arryni tartiblashga, eng kichik sondan tartiblaydi"
   ]
  },
  {
   "cell_type": "code",
   "execution_count": 8,
   "id": "7e930c04",
   "metadata": {},
   "outputs": [
    {
     "data": {
      "text/plain": [
       "array([0.55629386, 0.59327352, 0.77716429, 0.90622337])"
      ]
     },
     "execution_count": 8,
     "metadata": {},
     "output_type": "execute_result"
    }
   ],
   "source": [
    "# 1\n",
    "arr.sort()\n",
    "arr"
   ]
  },
  {
   "cell_type": "code",
   "execution_count": 10,
   "id": "e93e2d32",
   "metadata": {},
   "outputs": [
    {
     "data": {
      "text/plain": [
       "array([0.55629386, 0.59327352, 0.77716429, 0.90622337])"
      ]
     },
     "execution_count": 10,
     "metadata": {},
     "output_type": "execute_result"
    }
   ],
   "source": [
    "# 2\n",
    "sort_arr = np.sort(arr)\n",
    "sort_arr"
   ]
  },
  {
   "cell_type": "markdown",
   "id": "ea1f091f",
   "metadata": {},
   "source": [
    "### Teskari tariblash\n",
    "Teskari tartiblash da fuksiya yo'q shunichun boshqa usul qo'llaniladi"
   ]
  },
  {
   "cell_type": "code",
   "execution_count": 13,
   "id": "b171f68a",
   "metadata": {},
   "outputs": [
    {
     "data": {
      "text/plain": [
       "array([0.90622337, 0.77716429, 0.59327352, 0.55629386])"
      ]
     },
     "execution_count": 13,
     "metadata": {},
     "output_type": "execute_result"
    }
   ],
   "source": [
    "rev_arr = -np.sort(-arr) # teslari tartiblash\n",
    "rev_arr"
   ]
  },
  {
   "cell_type": "markdown",
   "id": "fa2f86e3",
   "metadata": {},
   "source": [
    "`2D arrayni tartiblash`"
   ]
  },
  {
   "cell_type": "code",
   "execution_count": 14,
   "id": "007ec072",
   "metadata": {},
   "outputs": [
    {
     "data": {
      "text/plain": [
       "array([[ 0.35666536,  0.05067444,  0.60510309,  1.16171449],\n",
       "       [-0.18499964,  1.34233442, -0.02708585, -0.07103611]])"
      ]
     },
     "execution_count": 14,
     "metadata": {},
     "output_type": "execute_result"
    }
   ],
   "source": [
    "arr2d = np.random.randn(2, 4) # 2,4 shapeli array\n",
    "arr2d"
   ]
  },
  {
   "cell_type": "code",
   "execution_count": 15,
   "id": "c99e1d8d",
   "metadata": {},
   "outputs": [
    {
     "data": {
      "text/plain": [
       "array([[-0.18499964,  0.05067444, -0.02708585, -0.07103611],\n",
       "       [ 0.35666536,  1.34233442,  0.60510309,  1.16171449]])"
      ]
     },
     "execution_count": 15,
     "metadata": {},
     "output_type": "execute_result"
    }
   ],
   "source": [
    "row_srt = np.sort(arr2d, axis = 0) # ustunlarni ustma ust tartublash\n",
    "row_srt"
   ]
  },
  {
   "cell_type": "code",
   "execution_count": 17,
   "id": "ec2a1534",
   "metadata": {},
   "outputs": [
    {
     "data": {
      "text/plain": [
       "array([[ 0.35666536,  1.34233442,  0.60510309,  1.16171449],\n",
       "       [-0.18499964,  0.05067444, -0.02708585, -0.07103611]])"
      ]
     },
     "execution_count": 17,
     "metadata": {},
     "output_type": "execute_result"
    }
   ],
   "source": [
    "row_srt = -np.sort(-arr2d, axis = 0) # ustunlarni ustma ust teskari tartublash\n",
    "row_srt"
   ]
  },
  {
   "cell_type": "code",
   "execution_count": 18,
   "id": "7df5af4b",
   "metadata": {},
   "outputs": [
    {
     "data": {
      "text/plain": [
       "array([[ 0.05067444,  0.35666536,  0.60510309,  1.16171449],\n",
       "       [-0.18499964, -0.07103611, -0.02708585,  1.34233442]])"
      ]
     },
     "execution_count": 18,
     "metadata": {},
     "output_type": "execute_result"
    }
   ],
   "source": [
    "col_srt = np.sort(arr2d, axis = 1) # qatorlarni tartublash\n",
    "col_srt"
   ]
  }
 ],
 "metadata": {
  "kernelspec": {
   "display_name": "Python 3 (ipykernel)",
   "language": "python",
   "name": "python3"
  },
  "language_info": {
   "codemirror_mode": {
    "name": "ipython",
    "version": 3
   },
   "file_extension": ".py",
   "mimetype": "text/x-python",
   "name": "python",
   "nbconvert_exporter": "python",
   "pygments_lexer": "ipython3",
   "version": "3.8.13"
  }
 },
 "nbformat": 4,
 "nbformat_minor": 5
}
