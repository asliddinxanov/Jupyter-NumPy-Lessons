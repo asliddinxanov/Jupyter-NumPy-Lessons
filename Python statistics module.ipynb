{
 "cells": [
  {
   "cell_type": "code",
   "execution_count": 4,
   "id": "54845dbb",
   "metadata": {},
   "outputs": [],
   "source": [
    "import statistics as sta"
   ]
  },
  {
   "cell_type": "code",
   "execution_count": 6,
   "id": "88d220dd",
   "metadata": {},
   "outputs": [
    {
     "data": {
      "text/plain": [
       "1.5"
      ]
     },
     "execution_count": 6,
     "metadata": {},
     "output_type": "execute_result"
    }
   ],
   "source": [
    "sta.mean(range(4)) #avarage"
   ]
  },
  {
   "cell_type": "code",
   "execution_count": 11,
   "id": "660f4f8b",
   "metadata": {},
   "outputs": [
    {
     "data": {
      "text/plain": [
       "2.5"
      ]
     },
     "execution_count": 11,
     "metadata": {},
     "output_type": "execute_result"
    }
   ],
   "source": [
    "sta.median(range(6)) #avarage"
   ]
  },
  {
   "cell_type": "code",
   "execution_count": 15,
   "id": "8bb41b7f",
   "metadata": {},
   "outputs": [
    {
     "data": {
      "text/plain": [
       "2"
      ]
     },
     "execution_count": 15,
     "metadata": {},
     "output_type": "execute_result"
    }
   ],
   "source": [
    "sta.median_low(range(6)) #avarage low"
   ]
  },
  {
   "cell_type": "code",
   "execution_count": 16,
   "id": "3ea9fe6c",
   "metadata": {},
   "outputs": [
    {
     "data": {
      "text/plain": [
       "3"
      ]
     },
     "execution_count": 16,
     "metadata": {},
     "output_type": "execute_result"
    }
   ],
   "source": [
    "sta.median_high(range(6)) #avarage high"
   ]
  },
  {
   "cell_type": "code",
   "execution_count": 19,
   "id": "afd56bf3",
   "metadata": {},
   "outputs": [
    {
     "data": {
      "text/plain": [
       "2.5"
      ]
     },
     "execution_count": 19,
     "metadata": {},
     "output_type": "execute_result"
    }
   ],
   "source": [
    "sta.median_grouped(range(6))"
   ]
  },
  {
   "cell_type": "code",
   "execution_count": 27,
   "id": "778d88cd",
   "metadata": {},
   "outputs": [
    {
     "data": {
      "text/plain": [
       "5"
      ]
     },
     "execution_count": 27,
     "metadata": {},
     "output_type": "execute_result"
    }
   ],
   "source": [
    "sta.mode(list(range(10))+[5]) #最頻値"
   ]
  },
  {
   "cell_type": "code",
   "execution_count": 26,
   "id": "d10b01c0",
   "metadata": {},
   "outputs": [
    {
     "data": {
      "text/plain": [
       "2.7423823870906103"
      ]
     },
     "execution_count": 26,
     "metadata": {},
     "output_type": "execute_result"
    }
   ],
   "source": [
    "sta.pstdev(list(range(10))+[5]) #population standard deviation\n",
    "#(母集団の標準偏差)"
   ]
  },
  {
   "cell_type": "code",
   "execution_count": 41,
   "id": "3818b91a",
   "metadata": {},
   "outputs": [
    {
     "data": {
      "text/plain": [
       "2.8762349126466136"
      ]
     },
     "execution_count": 41,
     "metadata": {},
     "output_type": "execute_result"
    }
   ],
   "source": [
    "sta.stdev(list(range(10))+[5]) #sample standard deviation\n",
    "#標本標準偏差"
   ]
  }
 ],
 "metadata": {
  "kernelspec": {
   "display_name": "Python 3 (ipykernel)",
   "language": "python",
   "name": "python3"
  },
  "language_info": {
   "codemirror_mode": {
    "name": "ipython",
    "version": 3
   },
   "file_extension": ".py",
   "mimetype": "text/x-python",
   "name": "python",
   "nbconvert_exporter": "python",
   "pygments_lexer": "ipython3",
   "version": "3.9.7"
  }
 },
 "nbformat": 4,
 "nbformat_minor": 5
}
