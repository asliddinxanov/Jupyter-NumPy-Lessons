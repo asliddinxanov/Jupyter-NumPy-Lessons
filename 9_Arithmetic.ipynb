{
 "cells": [
  {
   "cell_type": "markdown",
   "id": "b31e7595",
   "metadata": {},
   "source": [
    "# Arifmetik ammallar "
   ]
  },
  {
   "cell_type": "code",
   "execution_count": 1,
   "id": "f7d19b66",
   "metadata": {},
   "outputs": [],
   "source": [
    "import numpy as np"
   ]
  },
  {
   "cell_type": "code",
   "execution_count": 6,
   "id": "3337fd1d",
   "metadata": {},
   "outputs": [],
   "source": [
    "# 2ta array yaratib olamiz\n",
    "arr1 = np.arange(3,9).reshape(2, 3)\n",
    "arr2 = np.arange(9,15).reshape(2, 3)"
   ]
  },
  {
   "cell_type": "code",
   "execution_count": 7,
   "id": "4e27264d",
   "metadata": {},
   "outputs": [
    {
     "data": {
      "text/plain": [
       "array([[3, 4, 5],\n",
       "       [6, 7, 8]])"
      ]
     },
     "execution_count": 7,
     "metadata": {},
     "output_type": "execute_result"
    }
   ],
   "source": [
    "arr1"
   ]
  },
  {
   "cell_type": "code",
   "execution_count": 8,
   "id": "6c3a6cbd",
   "metadata": {},
   "outputs": [
    {
     "data": {
      "text/plain": [
       "array([[ 9, 10, 11],\n",
       "       [12, 13, 14]])"
      ]
     },
     "execution_count": 8,
     "metadata": {},
     "output_type": "execute_result"
    }
   ],
   "source": [
    "arr2"
   ]
  },
  {
   "cell_type": "code",
   "execution_count": 9,
   "id": "f57fed37",
   "metadata": {},
   "outputs": [
    {
     "data": {
      "text/plain": [
       "array([[ 27,  40,  55],\n",
       "       [ 72,  91, 112]])"
      ]
     },
     "execution_count": 9,
     "metadata": {},
     "output_type": "execute_result"
    }
   ],
   "source": [
    "# ko'pyatirish\n",
    "arr1 * arr2 # ikkita arrayni bir biriga ko'paytirish"
   ]
  },
  {
   "cell_type": "code",
   "execution_count": 10,
   "id": "5cc15e3a",
   "metadata": {},
   "outputs": [
    {
     "data": {
      "text/plain": [
       "array([[0.33333333, 0.4       , 0.45454545],\n",
       "       [0.5       , 0.53846154, 0.57142857]])"
      ]
     },
     "execution_count": 10,
     "metadata": {},
     "output_type": "execute_result"
    }
   ],
   "source": [
    "# bo'lish\n",
    "arr1 / arr2 # arrayni bir biriga bo'lish"
   ]
  },
  {
   "cell_type": "code",
   "execution_count": 11,
   "id": "a44d5aa9",
   "metadata": {},
   "outputs": [
    {
     "data": {
      "text/plain": [
       "array([[12, 14, 16],\n",
       "       [18, 20, 22]])"
      ]
     },
     "execution_count": 11,
     "metadata": {},
     "output_type": "execute_result"
    }
   ],
   "source": [
    "# qo'shish\n",
    "arr1 + arr2 # arratlarni qo'shish"
   ]
  },
  {
   "cell_type": "code",
   "execution_count": 12,
   "id": "bac759fb",
   "metadata": {},
   "outputs": [
    {
     "data": {
      "text/plain": [
       "array([[12, 14, 16],\n",
       "       [18, 20, 22]])"
      ]
     },
     "execution_count": 12,
     "metadata": {},
     "output_type": "execute_result"
    }
   ],
   "source": [
    "# ayirish\n",
    "arr1 + arr2 # arraylarni ayirish"
   ]
  },
  {
   "cell_type": "code",
   "execution_count": 14,
   "id": "a50a7be2",
   "metadata": {},
   "outputs": [
    {
     "data": {
      "text/plain": [
       "array([[ 9, 16, 25],\n",
       "       [36, 49, 64]], dtype=int32)"
      ]
     },
     "execution_count": 14,
     "metadata": {},
     "output_type": "execute_result"
    }
   ],
   "source": [
    "# kvadratga oshirish (square)\n",
    "arr1 ** 2 # arr1 ning 2darajasi"
   ]
  },
  {
   "cell_type": "code",
   "execution_count": 15,
   "id": "f298901d",
   "metadata": {
    "scrolled": true
   },
   "outputs": [
    {
     "data": {
      "text/plain": [
       "array([[3.        , 3.16227766, 3.31662479],\n",
       "       [3.46410162, 3.60555128, 3.74165739]])"
      ]
     },
     "execution_count": 15,
     "metadata": {},
     "output_type": "execute_result"
    }
   ],
   "source": [
    "# ildizdan chiqarish (sqrt)\n",
    "arr2 ** 0.5 #arr2 ning ildizi"
   ]
  },
  {
   "cell_type": "code",
   "execution_count": null,
   "id": "a48a3a89",
   "metadata": {},
   "outputs": [],
   "source": []
  }
 ],
 "metadata": {
  "kernelspec": {
   "display_name": "Python 3 (ipykernel)",
   "language": "python",
   "name": "python3"
  },
  "language_info": {
   "codemirror_mode": {
    "name": "ipython",
    "version": 3
   },
   "file_extension": ".py",
   "mimetype": "text/x-python",
   "name": "python",
   "nbconvert_exporter": "python",
   "pygments_lexer": "ipython3",
   "version": "3.8.13"
  }
 },
 "nbformat": 4,
 "nbformat_minor": 5
}
