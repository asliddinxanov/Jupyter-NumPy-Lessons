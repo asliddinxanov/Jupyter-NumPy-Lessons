{
 "cells": [
  {
   "cell_type": "markdown",
   "id": "2b400f4d",
   "metadata": {},
   "source": [
    "## Assign-1 (NumPy)"
   ]
  },
  {
   "cell_type": "markdown",
   "id": "b46f4d47",
   "metadata": {},
   "source": [
    "**(1)** Ixtiyoriy (n)ta 1 o'lchamli array yaratish"
   ]
  },
  {
   "cell_type": "code",
   "execution_count": 1,
   "id": "9eb12e6a",
   "metadata": {},
   "outputs": [],
   "source": [
    "import numpy as np"
   ]
  },
  {
   "cell_type": "code",
   "execution_count": 2,
   "id": "208e919a",
   "metadata": {},
   "outputs": [
    {
     "data": {
      "text/plain": [
       "array([0, 1, 2, 3, 4, 5, 6, 7, 8, 9])"
      ]
     },
     "execution_count": 2,
     "metadata": {},
     "output_type": "execute_result"
    }
   ],
   "source": [
    "def one_dim(n):\n",
    "    arr = np.arange(n)\n",
    "    return arr\n",
    "one_dim(10)"
   ]
  },
  {
   "cell_type": "markdown",
   "id": "b9b37f3c",
   "metadata": {},
   "source": [
    "**(2)** `shape(r, s)` bo'lgan 2 o'lchamli array yaraish"
   ]
  },
  {
   "cell_type": "code",
   "execution_count": 9,
   "id": "44b8a503",
   "metadata": {},
   "outputs": [
    {
     "data": {
      "text/plain": [
       "array([[0.36953511, 0.60879901, 0.856799  , 0.47612523],\n",
       "       [0.64419048, 0.40761079, 0.71231396, 0.09583047]])"
      ]
     },
     "execution_count": 9,
     "metadata": {},
     "output_type": "execute_result"
    }
   ],
   "source": [
    "def two_dim(r,s):\n",
    "    t_arr = np.random.random((r,s))\n",
    "    return t_arr\n",
    "two_dim(2,4)"
   ]
  }
 ],
 "metadata": {
  "kernelspec": {
   "display_name": "Python 3 (ipykernel)",
   "language": "python",
   "name": "python3"
  },
  "language_info": {
   "codemirror_mode": {
    "name": "ipython",
    "version": 3
   },
   "file_extension": ".py",
   "mimetype": "text/x-python",
   "name": "python",
   "nbconvert_exporter": "python",
   "pygments_lexer": "ipython3",
   "version": "3.9.12"
  }
 },
 "nbformat": 4,
 "nbformat_minor": 5
}
